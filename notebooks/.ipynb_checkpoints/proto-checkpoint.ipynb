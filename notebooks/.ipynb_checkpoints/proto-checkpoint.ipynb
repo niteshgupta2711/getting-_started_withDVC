{
 "cells": [
  {
   "cell_type": "code",
   "execution_count": 1,
   "metadata": {},
   "outputs": [
    {
     "name": "stderr",
     "output_type": "stream",
     "text": [
      "C:\\Users\\Nitesh\\Anaconda3\\lib\\site-packages\\numpy\\__init__.py:143: UserWarning: mkl-service package failed to import, therefore Intel(R) MKL initialization ensuring its correct out-of-the box operation under condition when Gnu OpenMP had already been loaded by Python process is not assured. Please install mkl-service package, see http://github.com/IntelPython/mkl-service\n",
      "  from . import _distributor_init\n"
     ]
    },
    {
     "ename": "ImportError",
     "evalue": "Unable to import required dependencies:\nnumpy: \n\nIMPORTANT: PLEASE READ THIS FOR ADVICE ON HOW TO SOLVE THIS ISSUE!\n\nImporting the numpy C-extensions failed. This error can happen for\nmany reasons, often due to issues with your setup or how NumPy was\ninstalled.\n\nWe have compiled some common reasons and troubleshooting tips at:\n\n    https://numpy.org/devdocs/user/troubleshooting-importerror.html\n\nPlease note and check the following:\n\n  * The Python version is: Python3.9 from \"C:\\Users\\Nitesh\\Anaconda3\\python.exe\"\n  * The NumPy version is: \"1.20.3\"\n\nand make sure that they are the versions you expect.\nPlease carefully study the documentation linked above for further help.\n\nOriginal error was: DLL load failed while importing _multiarray_umath: The specified module could not be found.\n",
     "output_type": "error",
     "traceback": [
      "\u001b[1;31m---------------------------------------------------------------------------\u001b[0m",
      "\u001b[1;31mImportError\u001b[0m                               Traceback (most recent call last)",
      "\u001b[1;32m~\\AppData\\Local\\Temp/ipykernel_9536/2574615468.py\u001b[0m in \u001b[0;36m<module>\u001b[1;34m\u001b[0m\n\u001b[1;32m----> 1\u001b[1;33m \u001b[1;32mimport\u001b[0m \u001b[0mpandas\u001b[0m \u001b[1;32mas\u001b[0m \u001b[0mpd\u001b[0m\u001b[1;33m\u001b[0m\u001b[1;33m\u001b[0m\u001b[0m\n\u001b[0m\u001b[0;32m      2\u001b[0m \u001b[1;32mimport\u001b[0m \u001b[0mnumpy\u001b[0m \u001b[1;32mas\u001b[0m \u001b[0mnp\u001b[0m\u001b[1;33m\u001b[0m\u001b[1;33m\u001b[0m\u001b[0m\n\u001b[0;32m      3\u001b[0m \u001b[1;32mfrom\u001b[0m \u001b[0msklearn\u001b[0m\u001b[1;33m.\u001b[0m\u001b[0mpreprocessing\u001b[0m  \u001b[1;32mimport\u001b[0m \u001b[0mStandardScaler\u001b[0m\u001b[1;33m\u001b[0m\u001b[1;33m\u001b[0m\u001b[0m\n\u001b[0;32m      4\u001b[0m \u001b[1;32mimport\u001b[0m \u001b[0mos\u001b[0m\u001b[1;33m\u001b[0m\u001b[1;33m\u001b[0m\u001b[0m\n\u001b[0;32m      5\u001b[0m \u001b[1;33m\u001b[0m\u001b[0m\n",
      "\u001b[1;32m~\\Anaconda3\\lib\\site-packages\\pandas\\__init__.py\u001b[0m in \u001b[0;36m<module>\u001b[1;34m\u001b[0m\n\u001b[0;32m     14\u001b[0m \u001b[1;33m\u001b[0m\u001b[0m\n\u001b[0;32m     15\u001b[0m \u001b[1;32mif\u001b[0m \u001b[0mmissing_dependencies\u001b[0m\u001b[1;33m:\u001b[0m\u001b[1;33m\u001b[0m\u001b[1;33m\u001b[0m\u001b[0m\n\u001b[1;32m---> 16\u001b[1;33m     raise ImportError(\n\u001b[0m\u001b[0;32m     17\u001b[0m         \u001b[1;34m\"Unable to import required dependencies:\\n\"\u001b[0m \u001b[1;33m+\u001b[0m \u001b[1;34m\"\\n\"\u001b[0m\u001b[1;33m.\u001b[0m\u001b[0mjoin\u001b[0m\u001b[1;33m(\u001b[0m\u001b[0mmissing_dependencies\u001b[0m\u001b[1;33m)\u001b[0m\u001b[1;33m\u001b[0m\u001b[1;33m\u001b[0m\u001b[0m\n\u001b[0;32m     18\u001b[0m     )\n",
      "\u001b[1;31mImportError\u001b[0m: Unable to import required dependencies:\nnumpy: \n\nIMPORTANT: PLEASE READ THIS FOR ADVICE ON HOW TO SOLVE THIS ISSUE!\n\nImporting the numpy C-extensions failed. This error can happen for\nmany reasons, often due to issues with your setup or how NumPy was\ninstalled.\n\nWe have compiled some common reasons and troubleshooting tips at:\n\n    https://numpy.org/devdocs/user/troubleshooting-importerror.html\n\nPlease note and check the following:\n\n  * The Python version is: Python3.9 from \"C:\\Users\\Nitesh\\Anaconda3\\python.exe\"\n  * The NumPy version is: \"1.20.3\"\n\nand make sure that they are the versions you expect.\nPlease carefully study the documentation linked above for further help.\n\nOriginal error was: DLL load failed while importing _multiarray_umath: The specified module could not be found.\n"
     ]
    }
   ],
   "source": [
    "import pandas as pd\n",
    "import numpy as np\n",
    "from sklearn.preprocessing  import StandardScaler\n",
    "import os\n",
    "\n"
   ]
  },
  {
   "cell_type": "code",
   "execution_count": 3,
   "metadata": {},
   "outputs": [],
   "source": [
    "# pip install -r requirements.txt\n",
    "# jupyter is good for prototyping\n",
    "# mkdir -p src/utils/main.py\n",
    "# -p flag creates the inbetween non existing directories"
   ]
  },
  {
   "cell_type": "code",
   "execution_count": 6,
   "metadata": {},
   "outputs": [],
   "source": [
    "import numpy as np"
   ]
  },
  {
   "cell_type": "markdown",
   "metadata": {},
   "source": [
    "* pip install -r requirements.txt"
   ]
  },
  {
   "cell_type": "markdown",
   "metadata": {},
   "source": [
    "+ heyo"
   ]
  },
  {
   "cell_type": "markdown",
   "metadata": {},
   "source": [
    "import numpy as np"
   ]
  },
  {
   "cell_type": "markdown",
   "metadata": {},
   "source": [
    "! pip install yaml"
   ]
  },
  {
   "cell_type": "code",
   "execution_count": 24,
   "metadata": {},
   "outputs": [
    {
     "ename": "OSError",
     "evalue": "Cannot save file into a non-existent directory: 'data'",
     "output_type": "error",
     "traceback": [
      "\u001b[1;31m---------------------------------------------------------------------------\u001b[0m",
      "\u001b[1;31mOSError\u001b[0m                                   Traceback (most recent call last)",
      "\u001b[1;32mc:\\Users\\Nitesh\\Desktop\\ALL_Python\\AI_ops\\DVC\\notebooks\\proto.ipynb Cell 8'\u001b[0m in \u001b[0;36m<cell line: 2>\u001b[1;34m()\u001b[0m\n\u001b[0;32m      <a href='vscode-notebook-cell:/c%3A/Users/Nitesh/Desktop/ALL_Python/AI_ops/DVC/notebooks/proto.ipynb#ch0000007?line=0'>1</a>\u001b[0m df\u001b[39m=\u001b[39mpd\u001b[39m.\u001b[39mread_csv(\u001b[39m'\u001b[39m\u001b[39mhttps://archive.ics.uci.edu/ml/machine-learning-databases/wine-quality/winequality-red.csv\u001b[39m\u001b[39m'\u001b[39m,header\u001b[39m=\u001b[39m\u001b[39m0\u001b[39m,delimiter\u001b[39m=\u001b[39m\u001b[39m'\u001b[39m\u001b[39m;\u001b[39m\u001b[39m'\u001b[39m)\n\u001b[1;32m----> <a href='vscode-notebook-cell:/c%3A/Users/Nitesh/Desktop/ALL_Python/AI_ops/DVC/notebooks/proto.ipynb#ch0000007?line=1'>2</a>\u001b[0m df\u001b[39m.\u001b[39;49mto_csv(\u001b[39m'\u001b[39;49m\u001b[39mdata/raw_data.csv\u001b[39;49m\u001b[39m'\u001b[39;49m)\n",
      "File \u001b[1;32m~\\Anaconda3\\envs\\ML_ops\\lib\\site-packages\\pandas\\core\\generic.py:3563\u001b[0m, in \u001b[0;36mNDFrame.to_csv\u001b[1;34m(self, path_or_buf, sep, na_rep, float_format, columns, header, index, index_label, mode, encoding, compression, quoting, quotechar, line_terminator, chunksize, date_format, doublequote, escapechar, decimal, errors, storage_options)\u001b[0m\n\u001b[0;32m   <a href='file:///c%3A/Users/Nitesh/Anaconda3/envs/ML_ops/lib/site-packages/pandas/core/generic.py?line=3551'>3552</a>\u001b[0m df \u001b[39m=\u001b[39m \u001b[39mself\u001b[39m \u001b[39mif\u001b[39;00m \u001b[39misinstance\u001b[39m(\u001b[39mself\u001b[39m, ABCDataFrame) \u001b[39melse\u001b[39;00m \u001b[39mself\u001b[39m\u001b[39m.\u001b[39mto_frame()\n\u001b[0;32m   <a href='file:///c%3A/Users/Nitesh/Anaconda3/envs/ML_ops/lib/site-packages/pandas/core/generic.py?line=3553'>3554</a>\u001b[0m formatter \u001b[39m=\u001b[39m DataFrameFormatter(\n\u001b[0;32m   <a href='file:///c%3A/Users/Nitesh/Anaconda3/envs/ML_ops/lib/site-packages/pandas/core/generic.py?line=3554'>3555</a>\u001b[0m     frame\u001b[39m=\u001b[39mdf,\n\u001b[0;32m   <a href='file:///c%3A/Users/Nitesh/Anaconda3/envs/ML_ops/lib/site-packages/pandas/core/generic.py?line=3555'>3556</a>\u001b[0m     header\u001b[39m=\u001b[39mheader,\n\u001b[1;32m   (...)\u001b[0m\n\u001b[0;32m   <a href='file:///c%3A/Users/Nitesh/Anaconda3/envs/ML_ops/lib/site-packages/pandas/core/generic.py?line=3559'>3560</a>\u001b[0m     decimal\u001b[39m=\u001b[39mdecimal,\n\u001b[0;32m   <a href='file:///c%3A/Users/Nitesh/Anaconda3/envs/ML_ops/lib/site-packages/pandas/core/generic.py?line=3560'>3561</a>\u001b[0m )\n\u001b[1;32m-> <a href='file:///c%3A/Users/Nitesh/Anaconda3/envs/ML_ops/lib/site-packages/pandas/core/generic.py?line=3562'>3563</a>\u001b[0m \u001b[39mreturn\u001b[39;00m DataFrameRenderer(formatter)\u001b[39m.\u001b[39;49mto_csv(\n\u001b[0;32m   <a href='file:///c%3A/Users/Nitesh/Anaconda3/envs/ML_ops/lib/site-packages/pandas/core/generic.py?line=3563'>3564</a>\u001b[0m     path_or_buf,\n\u001b[0;32m   <a href='file:///c%3A/Users/Nitesh/Anaconda3/envs/ML_ops/lib/site-packages/pandas/core/generic.py?line=3564'>3565</a>\u001b[0m     line_terminator\u001b[39m=\u001b[39;49mline_terminator,\n\u001b[0;32m   <a href='file:///c%3A/Users/Nitesh/Anaconda3/envs/ML_ops/lib/site-packages/pandas/core/generic.py?line=3565'>3566</a>\u001b[0m     sep\u001b[39m=\u001b[39;49msep,\n\u001b[0;32m   <a href='file:///c%3A/Users/Nitesh/Anaconda3/envs/ML_ops/lib/site-packages/pandas/core/generic.py?line=3566'>3567</a>\u001b[0m     encoding\u001b[39m=\u001b[39;49mencoding,\n\u001b[0;32m   <a href='file:///c%3A/Users/Nitesh/Anaconda3/envs/ML_ops/lib/site-packages/pandas/core/generic.py?line=3567'>3568</a>\u001b[0m     errors\u001b[39m=\u001b[39;49merrors,\n\u001b[0;32m   <a href='file:///c%3A/Users/Nitesh/Anaconda3/envs/ML_ops/lib/site-packages/pandas/core/generic.py?line=3568'>3569</a>\u001b[0m     compression\u001b[39m=\u001b[39;49mcompression,\n\u001b[0;32m   <a href='file:///c%3A/Users/Nitesh/Anaconda3/envs/ML_ops/lib/site-packages/pandas/core/generic.py?line=3569'>3570</a>\u001b[0m     quoting\u001b[39m=\u001b[39;49mquoting,\n\u001b[0;32m   <a href='file:///c%3A/Users/Nitesh/Anaconda3/envs/ML_ops/lib/site-packages/pandas/core/generic.py?line=3570'>3571</a>\u001b[0m     columns\u001b[39m=\u001b[39;49mcolumns,\n\u001b[0;32m   <a href='file:///c%3A/Users/Nitesh/Anaconda3/envs/ML_ops/lib/site-packages/pandas/core/generic.py?line=3571'>3572</a>\u001b[0m     index_label\u001b[39m=\u001b[39;49mindex_label,\n\u001b[0;32m   <a href='file:///c%3A/Users/Nitesh/Anaconda3/envs/ML_ops/lib/site-packages/pandas/core/generic.py?line=3572'>3573</a>\u001b[0m     mode\u001b[39m=\u001b[39;49mmode,\n\u001b[0;32m   <a href='file:///c%3A/Users/Nitesh/Anaconda3/envs/ML_ops/lib/site-packages/pandas/core/generic.py?line=3573'>3574</a>\u001b[0m     chunksize\u001b[39m=\u001b[39;49mchunksize,\n\u001b[0;32m   <a href='file:///c%3A/Users/Nitesh/Anaconda3/envs/ML_ops/lib/site-packages/pandas/core/generic.py?line=3574'>3575</a>\u001b[0m     quotechar\u001b[39m=\u001b[39;49mquotechar,\n\u001b[0;32m   <a href='file:///c%3A/Users/Nitesh/Anaconda3/envs/ML_ops/lib/site-packages/pandas/core/generic.py?line=3575'>3576</a>\u001b[0m     date_format\u001b[39m=\u001b[39;49mdate_format,\n\u001b[0;32m   <a href='file:///c%3A/Users/Nitesh/Anaconda3/envs/ML_ops/lib/site-packages/pandas/core/generic.py?line=3576'>3577</a>\u001b[0m     doublequote\u001b[39m=\u001b[39;49mdoublequote,\n\u001b[0;32m   <a href='file:///c%3A/Users/Nitesh/Anaconda3/envs/ML_ops/lib/site-packages/pandas/core/generic.py?line=3577'>3578</a>\u001b[0m     escapechar\u001b[39m=\u001b[39;49mescapechar,\n\u001b[0;32m   <a href='file:///c%3A/Users/Nitesh/Anaconda3/envs/ML_ops/lib/site-packages/pandas/core/generic.py?line=3578'>3579</a>\u001b[0m     storage_options\u001b[39m=\u001b[39;49mstorage_options,\n\u001b[0;32m   <a href='file:///c%3A/Users/Nitesh/Anaconda3/envs/ML_ops/lib/site-packages/pandas/core/generic.py?line=3579'>3580</a>\u001b[0m )\n",
      "File \u001b[1;32m~\\Anaconda3\\envs\\ML_ops\\lib\\site-packages\\pandas\\io\\formats\\format.py:1180\u001b[0m, in \u001b[0;36mDataFrameRenderer.to_csv\u001b[1;34m(self, path_or_buf, encoding, sep, columns, index_label, mode, compression, quoting, quotechar, line_terminator, chunksize, date_format, doublequote, escapechar, errors, storage_options)\u001b[0m\n\u001b[0;32m   <a href='file:///c%3A/Users/Nitesh/Anaconda3/envs/ML_ops/lib/site-packages/pandas/io/formats/format.py?line=1158'>1159</a>\u001b[0m     created_buffer \u001b[39m=\u001b[39m \u001b[39mFalse\u001b[39;00m\n\u001b[0;32m   <a href='file:///c%3A/Users/Nitesh/Anaconda3/envs/ML_ops/lib/site-packages/pandas/io/formats/format.py?line=1160'>1161</a>\u001b[0m csv_formatter \u001b[39m=\u001b[39m CSVFormatter(\n\u001b[0;32m   <a href='file:///c%3A/Users/Nitesh/Anaconda3/envs/ML_ops/lib/site-packages/pandas/io/formats/format.py?line=1161'>1162</a>\u001b[0m     path_or_buf\u001b[39m=\u001b[39mpath_or_buf,\n\u001b[0;32m   <a href='file:///c%3A/Users/Nitesh/Anaconda3/envs/ML_ops/lib/site-packages/pandas/io/formats/format.py?line=1162'>1163</a>\u001b[0m     line_terminator\u001b[39m=\u001b[39mline_terminator,\n\u001b[1;32m   (...)\u001b[0m\n\u001b[0;32m   <a href='file:///c%3A/Users/Nitesh/Anaconda3/envs/ML_ops/lib/site-packages/pandas/io/formats/format.py?line=1177'>1178</a>\u001b[0m     formatter\u001b[39m=\u001b[39m\u001b[39mself\u001b[39m\u001b[39m.\u001b[39mfmt,\n\u001b[0;32m   <a href='file:///c%3A/Users/Nitesh/Anaconda3/envs/ML_ops/lib/site-packages/pandas/io/formats/format.py?line=1178'>1179</a>\u001b[0m )\n\u001b[1;32m-> <a href='file:///c%3A/Users/Nitesh/Anaconda3/envs/ML_ops/lib/site-packages/pandas/io/formats/format.py?line=1179'>1180</a>\u001b[0m csv_formatter\u001b[39m.\u001b[39;49msave()\n\u001b[0;32m   <a href='file:///c%3A/Users/Nitesh/Anaconda3/envs/ML_ops/lib/site-packages/pandas/io/formats/format.py?line=1181'>1182</a>\u001b[0m \u001b[39mif\u001b[39;00m created_buffer:\n\u001b[0;32m   <a href='file:///c%3A/Users/Nitesh/Anaconda3/envs/ML_ops/lib/site-packages/pandas/io/formats/format.py?line=1182'>1183</a>\u001b[0m     \u001b[39massert\u001b[39;00m \u001b[39misinstance\u001b[39m(path_or_buf, StringIO)\n",
      "File \u001b[1;32m~\\Anaconda3\\envs\\ML_ops\\lib\\site-packages\\pandas\\io\\formats\\csvs.py:241\u001b[0m, in \u001b[0;36mCSVFormatter.save\u001b[1;34m(self)\u001b[0m\n\u001b[0;32m    <a href='file:///c%3A/Users/Nitesh/Anaconda3/envs/ML_ops/lib/site-packages/pandas/io/formats/csvs.py?line=236'>237</a>\u001b[0m \u001b[39m\"\"\"\u001b[39;00m\n\u001b[0;32m    <a href='file:///c%3A/Users/Nitesh/Anaconda3/envs/ML_ops/lib/site-packages/pandas/io/formats/csvs.py?line=237'>238</a>\u001b[0m \u001b[39mCreate the writer & save.\u001b[39;00m\n\u001b[0;32m    <a href='file:///c%3A/Users/Nitesh/Anaconda3/envs/ML_ops/lib/site-packages/pandas/io/formats/csvs.py?line=238'>239</a>\u001b[0m \u001b[39m\"\"\"\u001b[39;00m\n\u001b[0;32m    <a href='file:///c%3A/Users/Nitesh/Anaconda3/envs/ML_ops/lib/site-packages/pandas/io/formats/csvs.py?line=239'>240</a>\u001b[0m \u001b[39m# apply compression and byte/text conversion\u001b[39;00m\n\u001b[1;32m--> <a href='file:///c%3A/Users/Nitesh/Anaconda3/envs/ML_ops/lib/site-packages/pandas/io/formats/csvs.py?line=240'>241</a>\u001b[0m \u001b[39mwith\u001b[39;00m get_handle(\n\u001b[0;32m    <a href='file:///c%3A/Users/Nitesh/Anaconda3/envs/ML_ops/lib/site-packages/pandas/io/formats/csvs.py?line=241'>242</a>\u001b[0m     \u001b[39mself\u001b[39;49m\u001b[39m.\u001b[39;49mfilepath_or_buffer,\n\u001b[0;32m    <a href='file:///c%3A/Users/Nitesh/Anaconda3/envs/ML_ops/lib/site-packages/pandas/io/formats/csvs.py?line=242'>243</a>\u001b[0m     \u001b[39mself\u001b[39;49m\u001b[39m.\u001b[39;49mmode,\n\u001b[0;32m    <a href='file:///c%3A/Users/Nitesh/Anaconda3/envs/ML_ops/lib/site-packages/pandas/io/formats/csvs.py?line=243'>244</a>\u001b[0m     encoding\u001b[39m=\u001b[39;49m\u001b[39mself\u001b[39;49m\u001b[39m.\u001b[39;49mencoding,\n\u001b[0;32m    <a href='file:///c%3A/Users/Nitesh/Anaconda3/envs/ML_ops/lib/site-packages/pandas/io/formats/csvs.py?line=244'>245</a>\u001b[0m     errors\u001b[39m=\u001b[39;49m\u001b[39mself\u001b[39;49m\u001b[39m.\u001b[39;49merrors,\n\u001b[0;32m    <a href='file:///c%3A/Users/Nitesh/Anaconda3/envs/ML_ops/lib/site-packages/pandas/io/formats/csvs.py?line=245'>246</a>\u001b[0m     compression\u001b[39m=\u001b[39;49m\u001b[39mself\u001b[39;49m\u001b[39m.\u001b[39;49mcompression,\n\u001b[0;32m    <a href='file:///c%3A/Users/Nitesh/Anaconda3/envs/ML_ops/lib/site-packages/pandas/io/formats/csvs.py?line=246'>247</a>\u001b[0m     storage_options\u001b[39m=\u001b[39;49m\u001b[39mself\u001b[39;49m\u001b[39m.\u001b[39;49mstorage_options,\n\u001b[0;32m    <a href='file:///c%3A/Users/Nitesh/Anaconda3/envs/ML_ops/lib/site-packages/pandas/io/formats/csvs.py?line=247'>248</a>\u001b[0m ) \u001b[39mas\u001b[39;00m handles:\n\u001b[0;32m    <a href='file:///c%3A/Users/Nitesh/Anaconda3/envs/ML_ops/lib/site-packages/pandas/io/formats/csvs.py?line=248'>249</a>\u001b[0m \n\u001b[0;32m    <a href='file:///c%3A/Users/Nitesh/Anaconda3/envs/ML_ops/lib/site-packages/pandas/io/formats/csvs.py?line=249'>250</a>\u001b[0m     \u001b[39m# Note: self.encoding is irrelevant here\u001b[39;00m\n\u001b[0;32m    <a href='file:///c%3A/Users/Nitesh/Anaconda3/envs/ML_ops/lib/site-packages/pandas/io/formats/csvs.py?line=250'>251</a>\u001b[0m     \u001b[39mself\u001b[39m\u001b[39m.\u001b[39mwriter \u001b[39m=\u001b[39m csvlib\u001b[39m.\u001b[39mwriter(\n\u001b[0;32m    <a href='file:///c%3A/Users/Nitesh/Anaconda3/envs/ML_ops/lib/site-packages/pandas/io/formats/csvs.py?line=251'>252</a>\u001b[0m         handles\u001b[39m.\u001b[39mhandle,\n\u001b[0;32m    <a href='file:///c%3A/Users/Nitesh/Anaconda3/envs/ML_ops/lib/site-packages/pandas/io/formats/csvs.py?line=252'>253</a>\u001b[0m         lineterminator\u001b[39m=\u001b[39m\u001b[39mself\u001b[39m\u001b[39m.\u001b[39mline_terminator,\n\u001b[1;32m   (...)\u001b[0m\n\u001b[0;32m    <a href='file:///c%3A/Users/Nitesh/Anaconda3/envs/ML_ops/lib/site-packages/pandas/io/formats/csvs.py?line=257'>258</a>\u001b[0m         quotechar\u001b[39m=\u001b[39m\u001b[39mself\u001b[39m\u001b[39m.\u001b[39mquotechar,\n\u001b[0;32m    <a href='file:///c%3A/Users/Nitesh/Anaconda3/envs/ML_ops/lib/site-packages/pandas/io/formats/csvs.py?line=258'>259</a>\u001b[0m     )\n\u001b[0;32m    <a href='file:///c%3A/Users/Nitesh/Anaconda3/envs/ML_ops/lib/site-packages/pandas/io/formats/csvs.py?line=260'>261</a>\u001b[0m     \u001b[39mself\u001b[39m\u001b[39m.\u001b[39m_save()\n",
      "File \u001b[1;32m~\\Anaconda3\\envs\\ML_ops\\lib\\site-packages\\pandas\\io\\common.py:697\u001b[0m, in \u001b[0;36mget_handle\u001b[1;34m(path_or_buf, mode, encoding, compression, memory_map, is_text, errors, storage_options)\u001b[0m\n\u001b[0;32m    <a href='file:///c%3A/Users/Nitesh/Anaconda3/envs/ML_ops/lib/site-packages/pandas/io/common.py?line=694'>695</a>\u001b[0m \u001b[39m# Only for write methods\u001b[39;00m\n\u001b[0;32m    <a href='file:///c%3A/Users/Nitesh/Anaconda3/envs/ML_ops/lib/site-packages/pandas/io/common.py?line=695'>696</a>\u001b[0m \u001b[39mif\u001b[39;00m \u001b[39m\"\u001b[39m\u001b[39mr\u001b[39m\u001b[39m\"\u001b[39m \u001b[39mnot\u001b[39;00m \u001b[39min\u001b[39;00m mode \u001b[39mand\u001b[39;00m is_path:\n\u001b[1;32m--> <a href='file:///c%3A/Users/Nitesh/Anaconda3/envs/ML_ops/lib/site-packages/pandas/io/common.py?line=696'>697</a>\u001b[0m     check_parent_directory(\u001b[39mstr\u001b[39;49m(handle))\n\u001b[0;32m    <a href='file:///c%3A/Users/Nitesh/Anaconda3/envs/ML_ops/lib/site-packages/pandas/io/common.py?line=698'>699</a>\u001b[0m \u001b[39mif\u001b[39;00m compression:\n\u001b[0;32m    <a href='file:///c%3A/Users/Nitesh/Anaconda3/envs/ML_ops/lib/site-packages/pandas/io/common.py?line=699'>700</a>\u001b[0m     \u001b[39mif\u001b[39;00m compression \u001b[39m!=\u001b[39m \u001b[39m\"\u001b[39m\u001b[39mzstd\u001b[39m\u001b[39m\"\u001b[39m:\n\u001b[0;32m    <a href='file:///c%3A/Users/Nitesh/Anaconda3/envs/ML_ops/lib/site-packages/pandas/io/common.py?line=700'>701</a>\u001b[0m         \u001b[39m# compression libraries do not like an explicit text-mode\u001b[39;00m\n",
      "File \u001b[1;32m~\\Anaconda3\\envs\\ML_ops\\lib\\site-packages\\pandas\\io\\common.py:571\u001b[0m, in \u001b[0;36mcheck_parent_directory\u001b[1;34m(path)\u001b[0m\n\u001b[0;32m    <a href='file:///c%3A/Users/Nitesh/Anaconda3/envs/ML_ops/lib/site-packages/pandas/io/common.py?line=568'>569</a>\u001b[0m parent \u001b[39m=\u001b[39m Path(path)\u001b[39m.\u001b[39mparent\n\u001b[0;32m    <a href='file:///c%3A/Users/Nitesh/Anaconda3/envs/ML_ops/lib/site-packages/pandas/io/common.py?line=569'>570</a>\u001b[0m \u001b[39mif\u001b[39;00m \u001b[39mnot\u001b[39;00m parent\u001b[39m.\u001b[39mis_dir():\n\u001b[1;32m--> <a href='file:///c%3A/Users/Nitesh/Anaconda3/envs/ML_ops/lib/site-packages/pandas/io/common.py?line=570'>571</a>\u001b[0m     \u001b[39mraise\u001b[39;00m \u001b[39mOSError\u001b[39;00m(\u001b[39mfr\u001b[39m\u001b[39m\"\u001b[39m\u001b[39mCannot save file into a non-existent directory: \u001b[39m\u001b[39m'\u001b[39m\u001b[39m{\u001b[39;00mparent\u001b[39m}\u001b[39;00m\u001b[39m'\u001b[39m\u001b[39m\"\u001b[39m)\n",
      "\u001b[1;31mOSError\u001b[0m: Cannot save file into a non-existent directory: 'data'"
     ]
    }
   ],
   "source": [
    "df=pd.read_csv('https://archive.ics.uci.edu/ml/machine-learning-databases/wine-quality/winequality-red.csv',header=0,delimiter=';')\n",
    "df.to_csv('data/raw_data.csv')\n"
   ]
  },
  {
   "cell_type": "code",
   "execution_count": 23,
   "metadata": {},
   "outputs": [
    {
     "data": {
      "text/html": [
       "<div>\n",
       "<style scoped>\n",
       "    .dataframe tbody tr th:only-of-type {\n",
       "        vertical-align: middle;\n",
       "    }\n",
       "\n",
       "    .dataframe tbody tr th {\n",
       "        vertical-align: top;\n",
       "    }\n",
       "\n",
       "    .dataframe thead th {\n",
       "        text-align: right;\n",
       "    }\n",
       "</style>\n",
       "<table border=\"1\" class=\"dataframe\">\n",
       "  <thead>\n",
       "    <tr style=\"text-align: right;\">\n",
       "      <th></th>\n",
       "      <th>fixed acidity</th>\n",
       "      <th>volatile acidity</th>\n",
       "      <th>citric acid</th>\n",
       "      <th>residual sugar</th>\n",
       "      <th>chlorides</th>\n",
       "      <th>free sulfur dioxide</th>\n",
       "      <th>total sulfur dioxide</th>\n",
       "      <th>density</th>\n",
       "      <th>pH</th>\n",
       "      <th>sulphates</th>\n",
       "      <th>alcohol</th>\n",
       "      <th>quality</th>\n",
       "    </tr>\n",
       "  </thead>\n",
       "  <tbody>\n",
       "    <tr>\n",
       "      <th>0</th>\n",
       "      <td>7.4</td>\n",
       "      <td>0.70</td>\n",
       "      <td>0.00</td>\n",
       "      <td>1.9</td>\n",
       "      <td>0.076</td>\n",
       "      <td>11.0</td>\n",
       "      <td>34.0</td>\n",
       "      <td>0.9978</td>\n",
       "      <td>3.51</td>\n",
       "      <td>0.56</td>\n",
       "      <td>9.4</td>\n",
       "      <td>5</td>\n",
       "    </tr>\n",
       "    <tr>\n",
       "      <th>1</th>\n",
       "      <td>7.8</td>\n",
       "      <td>0.88</td>\n",
       "      <td>0.00</td>\n",
       "      <td>2.6</td>\n",
       "      <td>0.098</td>\n",
       "      <td>25.0</td>\n",
       "      <td>67.0</td>\n",
       "      <td>0.9968</td>\n",
       "      <td>3.20</td>\n",
       "      <td>0.68</td>\n",
       "      <td>9.8</td>\n",
       "      <td>5</td>\n",
       "    </tr>\n",
       "    <tr>\n",
       "      <th>2</th>\n",
       "      <td>7.8</td>\n",
       "      <td>0.76</td>\n",
       "      <td>0.04</td>\n",
       "      <td>2.3</td>\n",
       "      <td>0.092</td>\n",
       "      <td>15.0</td>\n",
       "      <td>54.0</td>\n",
       "      <td>0.9970</td>\n",
       "      <td>3.26</td>\n",
       "      <td>0.65</td>\n",
       "      <td>9.8</td>\n",
       "      <td>5</td>\n",
       "    </tr>\n",
       "    <tr>\n",
       "      <th>3</th>\n",
       "      <td>11.2</td>\n",
       "      <td>0.28</td>\n",
       "      <td>0.56</td>\n",
       "      <td>1.9</td>\n",
       "      <td>0.075</td>\n",
       "      <td>17.0</td>\n",
       "      <td>60.0</td>\n",
       "      <td>0.9980</td>\n",
       "      <td>3.16</td>\n",
       "      <td>0.58</td>\n",
       "      <td>9.8</td>\n",
       "      <td>6</td>\n",
       "    </tr>\n",
       "    <tr>\n",
       "      <th>4</th>\n",
       "      <td>7.4</td>\n",
       "      <td>0.70</td>\n",
       "      <td>0.00</td>\n",
       "      <td>1.9</td>\n",
       "      <td>0.076</td>\n",
       "      <td>11.0</td>\n",
       "      <td>34.0</td>\n",
       "      <td>0.9978</td>\n",
       "      <td>3.51</td>\n",
       "      <td>0.56</td>\n",
       "      <td>9.4</td>\n",
       "      <td>5</td>\n",
       "    </tr>\n",
       "  </tbody>\n",
       "</table>\n",
       "</div>"
      ],
      "text/plain": [
       "   fixed acidity  volatile acidity  citric acid  residual sugar  chlorides  \\\n",
       "0            7.4              0.70         0.00             1.9      0.076   \n",
       "1            7.8              0.88         0.00             2.6      0.098   \n",
       "2            7.8              0.76         0.04             2.3      0.092   \n",
       "3           11.2              0.28         0.56             1.9      0.075   \n",
       "4            7.4              0.70         0.00             1.9      0.076   \n",
       "\n",
       "   free sulfur dioxide  total sulfur dioxide  density    pH  sulphates  \\\n",
       "0                 11.0                  34.0   0.9978  3.51       0.56   \n",
       "1                 25.0                  67.0   0.9968  3.20       0.68   \n",
       "2                 15.0                  54.0   0.9970  3.26       0.65   \n",
       "3                 17.0                  60.0   0.9980  3.16       0.58   \n",
       "4                 11.0                  34.0   0.9978  3.51       0.56   \n",
       "\n",
       "   alcohol  quality  \n",
       "0      9.4        5  \n",
       "1      9.8        5  \n",
       "2      9.8        5  \n",
       "3      9.8        6  \n",
       "4      9.4        5  "
      ]
     },
     "execution_count": 23,
     "metadata": {},
     "output_type": "execute_result"
    }
   ],
   "source": [
    "df.head()"
   ]
  },
  {
   "cell_type": "code",
   "execution_count": null,
   "metadata": {},
   "outputs": [],
   "source": []
  }
 ],
 "metadata": {
  "interpreter": {
   "hash": "3d7806aad8c42af4d6e7d87109c2b22b9ac7583fe9b7dcca954d030bed5542fa"
  },
  "kernelspec": {
   "display_name": "Python 3 (ipykernel)",
   "language": "python",
   "name": "python3"
  },
  "language_info": {
   "codemirror_mode": {
    "name": "ipython",
    "version": 3
   },
   "file_extension": ".py",
   "mimetype": "text/x-python",
   "name": "python",
   "nbconvert_exporter": "python",
   "pygments_lexer": "ipython3",
   "version": "3.9.7"
  }
 },
 "nbformat": 4,
 "nbformat_minor": 2
}
